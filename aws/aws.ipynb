{
 "cells": [
  {
   "cell_type": "markdown",
   "metadata": {},
   "source": [
    "# AWS S3에 이미지 파일 업로드"
   ]
  },
  {
   "cell_type": "code",
   "execution_count": 2,
   "metadata": {},
   "outputs": [
    {
     "name": "stdout",
     "output_type": "stream",
     "text": [
      "Collecting boto3\n",
      "  Obtaining dependency information for boto3 from https://files.pythonhosted.org/packages/07/0f/aa5b3ca9fa4bbb7db3e9150cc16269867ebbf245b67400aaba97ebbfede9/boto3-1.34.104-py3-none-any.whl.metadata\n",
      "  Downloading boto3-1.34.104-py3-none-any.whl.metadata (6.6 kB)\n",
      "Collecting botocore<1.35.0,>=1.34.104 (from boto3)\n",
      "  Obtaining dependency information for botocore<1.35.0,>=1.34.104 from https://files.pythonhosted.org/packages/aa/e0/7ec1a84a66c330fcc5a0c8604a12c5bd34802f5f6f8eda501cd3210767a8/botocore-1.34.104-py3-none-any.whl.metadata\n",
      "  Downloading botocore-1.34.104-py3-none-any.whl.metadata (5.7 kB)\n",
      "Collecting jmespath<2.0.0,>=0.7.1 (from boto3)\n",
      "  Obtaining dependency information for jmespath<2.0.0,>=0.7.1 from https://files.pythonhosted.org/packages/31/b4/b9b800c45527aadd64d5b442f9b932b00648617eb5d63d2c7a6587b7cafc/jmespath-1.0.1-py3-none-any.whl.metadata\n",
      "  Using cached jmespath-1.0.1-py3-none-any.whl.metadata (7.6 kB)\n",
      "Collecting s3transfer<0.11.0,>=0.10.0 (from boto3)\n",
      "  Obtaining dependency information for s3transfer<0.11.0,>=0.10.0 from https://files.pythonhosted.org/packages/83/37/395cdb6ee92925fa211e55d8f07b9f93cf93f60d7d4ce5e66fd73f1ea986/s3transfer-0.10.1-py3-none-any.whl.metadata\n",
      "  Using cached s3transfer-0.10.1-py3-none-any.whl.metadata (1.7 kB)\n",
      "Requirement already satisfied: python-dateutil<3.0.0,>=2.1 in c:\\users\\big03-01\\appdata\\local\\programs\\python\\python312\\lib\\site-packages (from botocore<1.35.0,>=1.34.104->boto3) (2.8.2)\n",
      "Requirement already satisfied: urllib3!=2.2.0,<3,>=1.25.4 in c:\\users\\big03-01\\appdata\\local\\programs\\python\\python312\\lib\\site-packages (from botocore<1.35.0,>=1.34.104->boto3) (2.1.0)\n",
      "Requirement already satisfied: six>=1.5 in c:\\users\\big03-01\\appdata\\local\\programs\\python\\python312\\lib\\site-packages (from python-dateutil<3.0.0,>=2.1->botocore<1.35.0,>=1.34.104->boto3) (1.16.0)\n",
      "Downloading boto3-1.34.104-py3-none-any.whl (139 kB)\n",
      "   ---------------------------------------- 0.0/139.3 kB ? eta -:--:--\n",
      "   ----------------- ---------------------- 61.4/139.3 kB 1.7 MB/s eta 0:00:01\n",
      "   ---------------------------------------- 139.3/139.3 kB 2.7 MB/s eta 0:00:00\n",
      "Downloading botocore-1.34.104-py3-none-any.whl (12.2 MB)\n",
      "   ---------------------------------------- 0.0/12.2 MB ? eta -:--:--\n",
      "   - -------------------------------------- 0.5/12.2 MB 10.5 MB/s eta 0:00:02\n",
      "   --- ------------------------------------ 1.1/12.2 MB 11.3 MB/s eta 0:00:01\n",
      "   ----- ---------------------------------- 1.6/12.2 MB 11.6 MB/s eta 0:00:01\n",
      "   ------- -------------------------------- 2.2/12.2 MB 11.7 MB/s eta 0:00:01\n",
      "   -------- ------------------------------- 2.7/12.2 MB 11.7 MB/s eta 0:00:01\n",
      "   ---------- ----------------------------- 3.3/12.2 MB 11.6 MB/s eta 0:00:01\n",
      "   ------------ --------------------------- 3.8/12.2 MB 11.6 MB/s eta 0:00:01\n",
      "   -------------- ------------------------- 4.4/12.2 MB 11.6 MB/s eta 0:00:01\n",
      "   ---------------- ----------------------- 4.9/12.2 MB 11.6 MB/s eta 0:00:01\n",
      "   ----------------- ---------------------- 5.4/12.2 MB 11.6 MB/s eta 0:00:01\n",
      "   ------------------- -------------------- 6.0/12.2 MB 11.6 MB/s eta 0:00:01\n",
      "   --------------------- ------------------ 6.5/12.2 MB 11.6 MB/s eta 0:00:01\n",
      "   ----------------------- ---------------- 7.1/12.2 MB 11.6 MB/s eta 0:00:01\n",
      "   ------------------------ --------------- 7.6/12.2 MB 11.6 MB/s eta 0:00:01\n",
      "   -------------------------- ------------- 8.2/12.2 MB 11.6 MB/s eta 0:00:01\n",
      "   ---------------------------- ----------- 8.7/12.2 MB 11.6 MB/s eta 0:00:01\n",
      "   ------------------------------ --------- 9.3/12.2 MB 11.6 MB/s eta 0:00:01\n",
      "   -------------------------------- ------- 9.8/12.2 MB 11.6 MB/s eta 0:00:01\n",
      "   --------------------------------- ------ 10.4/12.2 MB 11.7 MB/s eta 0:00:01\n",
      "   ----------------------------------- ---- 10.9/12.2 MB 11.7 MB/s eta 0:00:01\n",
      "   ------------------------------------- -- 11.5/12.2 MB 11.7 MB/s eta 0:00:01\n",
      "   ---------------------------------------  12.0/12.2 MB 11.7 MB/s eta 0:00:01\n",
      "   ---------------------------------------  12.2/12.2 MB 11.7 MB/s eta 0:00:01\n",
      "   ---------------------------------------  12.2/12.2 MB 11.7 MB/s eta 0:00:01\n",
      "   ---------------------------------------  12.2/12.2 MB 11.7 MB/s eta 0:00:01\n",
      "   ---------------------------------------  12.2/12.2 MB 11.7 MB/s eta 0:00:01\n",
      "   ---------------------------------------- 12.2/12.2 MB 9.5 MB/s eta 0:00:00\n",
      "Using cached jmespath-1.0.1-py3-none-any.whl (20 kB)\n",
      "Using cached s3transfer-0.10.1-py3-none-any.whl (82 kB)\n",
      "Installing collected packages: jmespath, botocore, s3transfer, boto3\n",
      "Successfully installed boto3-1.34.104 botocore-1.34.104 jmespath-1.0.1 s3transfer-0.10.1\n",
      "Note: you may need to restart the kernel to use updated packages.\n"
     ]
    },
    {
     "name": "stderr",
     "output_type": "stream",
     "text": [
      "\n",
      "[notice] A new release of pip is available: 23.2.1 -> 24.0\n",
      "[notice] To update, run: python.exe -m pip install --upgrade pip\n"
     ]
    }
   ],
   "source": [
    "pip install boto3\n"
   ]
  },
  {
   "cell_type": "code",
   "execution_count": null,
   "metadata": {},
   "outputs": [
    {
     "name": "stdout",
     "output_type": "stream",
     "text": [
      "버킷 목록: [{'Name': 'aws-cloudtrail-logs-466844206835-67d3bc90', 'CreationDate': datetime.datetime(2023, 5, 2, 6, 5, 34, tzinfo=tzutc())}, {'Name': 'bedrock-claude-doc', 'CreationDate': datetime.datetime(2024, 4, 11, 4, 51, 21, tzinfo=tzutc())}, {'Name': 'bedrock-cloudfront', 'CreationDate': datetime.datetime(2024, 5, 14, 2, 0, 31, tzinfo=tzutc())}, {'Name': 'bedrock-lib', 'CreationDate': datetime.datetime(2024, 4, 11, 0, 0, 55, tzinfo=tzutc())}, {'Name': 'bedrock-rag-datasource-bucket', 'CreationDate': datetime.datetime(2024, 4, 25, 10, 6, 6, tzinfo=tzutc())}, {'Name': 'bedrock-rag-datasource-bucket-east-1', 'CreationDate': datetime.datetime(2024, 4, 30, 7, 34, 27, tzinfo=tzutc())}, {'Name': 'bedrock-rag-datasource-bucket-east-2', 'CreationDate': datetime.datetime(2024, 4, 25, 10, 9, 58, tzinfo=tzutc())}, {'Name': 'big7-bgm', 'CreationDate': datetime.datetime(2024, 5, 14, 5, 16, 17, tzinfo=tzutc())}, {'Name': 'big7-choi', 'CreationDate': datetime.datetime(2024, 5, 14, 4, 26, 38, tzinfo=tzutc())}, {'Name': 'big7-hana', 'CreationDate': datetime.datetime(2024, 5, 14, 4, 40, 14, tzinfo=tzutc())}, {'Name': 'big7-jk', 'CreationDate': datetime.datetime(2024, 5, 14, 4, 26, 30, tzinfo=tzutc())}, {'Name': 'big7-joobok', 'CreationDate': datetime.datetime(2024, 5, 14, 4, 26, 33, tzinfo=tzutc())}, {'Name': 'big7-mina', 'CreationDate': datetime.datetime(2024, 5, 14, 4, 46, 13, tzinfo=tzutc())}, {'Name': 'big7-pch', 'CreationDate': datetime.datetime(2024, 5, 14, 4, 26, 29, tzinfo=tzutc())}, {'Name': 'big7-pilju', 'CreationDate': datetime.datetime(2024, 5, 14, 4, 26, 29, tzinfo=tzutc())}, {'Name': 'big7-sohyeon', 'CreationDate': datetime.datetime(2024, 5, 14, 4, 26, 29, tzinfo=tzutc())}, {'Name': 'big7-soojin', 'CreationDate': datetime.datetime(2024, 5, 14, 4, 26, 29, tzinfo=tzutc())}, {'Name': 'big7-sy', 'CreationDate': datetime.datetime(2024, 5, 14, 4, 26, 48, tzinfo=tzutc())}, {'Name': 'cf-templates-rtjo6gvr27vv-ap-northeast-1', 'CreationDate': datetime.datetime(2024, 5, 9, 5, 7, 25, tzinfo=tzutc())}, {'Name': 'cf-templates-rtjo6gvr27vv-ap-northeast-2', 'CreationDate': datetime.datetime(2024, 3, 25, 7, 15, 45, tzinfo=tzutc())}, {'Name': 'cj-dl-ai-interview', 'CreationDate': datetime.datetime(2024, 1, 4, 1, 22, 38, tzinfo=tzutc())}, {'Name': 'cj-dl-ai-interview-result', 'CreationDate': datetime.datetime(2024, 3, 11, 1, 42, 13, tzinfo=tzutc())}, {'Name': 'cloudtrail-every-tracking', 'CreationDate': datetime.datetime(2023, 11, 27, 5, 2, 42, tzinfo=tzutc())}, {'Name': 'config-bucket-466844206835', 'CreationDate': datetime.datetime(2023, 12, 29, 4, 24, 11, tzinfo=tzutc())}, {'Name': 'dl-alpaca-gluetest', 'CreationDate': datetime.datetime(2024, 5, 14, 0, 5, 50, tzinfo=tzutc())}, {'Name': 'dl-landingpage', 'CreationDate': datetime.datetime(2024, 1, 26, 7, 30, 17, tzinfo=tzutc())}, {'Name': 'elasticbeanstalk-ap-northeast-2-466844206835', 'CreationDate': datetime.datetime(2024, 4, 24, 6, 44, 46, tzinfo=tzutc())}, {'Name': 'elasticbeanstalk-us-east-1-466844206835', 'CreationDate': datetime.datetime(2024, 4, 23, 5, 49, 54, tzinfo=tzutc())}, {'Name': 'item-meta-jdh-0509', 'CreationDate': datetime.datetime(2024, 5, 9, 5, 22, 25, tzinfo=tzutc())}, {'Name': 'kdtlms', 'CreationDate': datetime.datetime(2024, 4, 23, 7, 46, 6, tzinfo=tzutc())}, {'Name': 'sagemaker-ap-northeast-2-466844206835', 'CreationDate': datetime.datetime(2024, 4, 25, 7, 23, 41, tzinfo=tzutc())}, {'Name': 'sagemaker-studio-466844206835-41rzeoyx697', 'CreationDate': datetime.datetime(2024, 4, 25, 7, 23, 37, tzinfo=tzutc())}, {'Name': 'sagemaker-studio-466844206835-q63vrneikli', 'CreationDate': datetime.datetime(2024, 4, 26, 0, 38, 36, tzinfo=tzutc())}, {'Name': 'streaming-jdh-0509', 'CreationDate': datetime.datetime(2024, 5, 9, 5, 27, 9, tzinfo=tzutc())}, {'Name': 'test-compre-sage', 'CreationDate': datetime.datetime(2024, 4, 29, 11, 31, 46, tzinfo=tzutc())}, {'Name': 'yewon21', 'CreationDate': datetime.datetime(2024, 5, 7, 1, 37, 14, tzinfo=tzutc())}]\n"
     ]
    }
   ],
   "source": [
    "import os\n",
    "import boto3\n",
    "# 환경 변수에서 AWS 자격 증명 설정\n",
    "os.environ['AWS_ACCESS_KEY_ID'] = 'YOUR_ACCESS_KEY_ID'\n",
    "os.environ['AWS_SECRET_ACCESS_KEY'] = 'YOUR_SECRET_ACCESS_KEY'\n",
    "\n",
    "# S3 클라이언트 생성\n",
    "s3 = boto3.client('s3')\n",
    "\n",
    "# 버킷 목록 가져오기\n",
    "# 업로드된 파일의 ACL을 'public-read'로 설정하여 공개 읽기 권한 부여\n",
    "# Content-Type을 'image/jpeg'로 지정\n",
    "response = s3.list_buckets()\n",
    "print(\"버킷 목록:\", response['Buckets'])\n",
    "s3.upload_file(\n",
    "    r\"파일경로\",\n",
    "    'S3 버킷 이름',\n",
    "    '이미지 파일',\n",
    "    ExtraArgs={'ACL':'public-read', 'ContentType': 'image/jpeg'}\n",
    ")"
   ]
  },
  {
   "cell_type": "markdown",
   "metadata": {},
   "source": [
    "# Polly 사용하여 텍스트를 음성 파일로 변환하고 S3에 업로드"
   ]
  },
  {
   "cell_type": "code",
   "execution_count": 25,
   "metadata": {},
   "outputs": [
    {
     "name": "stdout",
     "output_type": "stream",
     "text": [
      "Audio file uploaded to S3 bucket 'big7-sohyeon' successfully!\n"
     ]
    }
   ],
   "source": [
    "import boto3\n",
    "\n",
    "# 텍스트를 Polly 서비스를 통해 합성된 음성 파일로 변환하고 S3 버킷에 업로드하는 함수\n",
    "def generate_and_upload_audio(text, output_file_name, bucket_name):\n",
    "    # Polly 서비스에 연결\n",
    "    polly = boto3.client('polly', region_name='us-east-1')  # 버지니아 북부 리전\n",
    "    \n",
    "    try:\n",
    "        # Polly를 사용하여 롱폼 유형의 음성을 합성하고 .wav 파일로 생성\n",
    "        response = polly.synthesize_speech(\n",
    "            Engine='neural',\n",
    "            Text=text,\n",
    "            OutputFormat='mp3',\n",
    "            VoiceId='Gregory' \n",
    "        )\n",
    "\n",
    "        # 합성된 음성 데이터를 로컬 .wav 파일로 저장\n",
    "        with open(output_file_name, 'wb') as file:\n",
    "            file.write(response['AudioStream'].read())\n",
    "\n",
    "        # S3 클라이언트 생성\n",
    "        s3 = boto3.client('s3', region_name='us-east-1')  \n",
    "\n",
    "        # 생성한 .wav 파일을 S3 버킷에 업로드\n",
    "        s3.upload_file(output_file_name, bucket_name, output_file_name)\n",
    "        \n",
    "        print(f\"Audio file uploaded to S3 bucket '{bucket_name}' successfully!\")\n",
    "    \n",
    "    except Exception as e:\n",
    "        print(\"Error:\", e)\n",
    "\n",
    "# 텍스트 입력\n",
    "text = \"Eatting bread with your mouse shut\"\n",
    "\n",
    "# 생성된 .wav 파일의 이름\n",
    "output_file_name = \"output.wav\"\n",
    "\n",
    "# S3에 업로드할 버킷 이름\n",
    "bucket_name = \"버킷 이름\"\n",
    "\n",
    "# 함수 호출하여 Polly로 합성된 음성을 생성하고 S3에 업로드\n",
    "generate_and_upload_audio(text, output_file_name, bucket_name)\n"
   ]
  },
  {
   "cell_type": "code",
   "execution_count": null,
   "metadata": {},
   "outputs": [],
   "source": []
  },
  {
   "cell_type": "code",
   "execution_count": null,
   "metadata": {},
   "outputs": [],
   "source": []
  },
  {
   "cell_type": "code",
   "execution_count": null,
   "metadata": {},
   "outputs": [],
   "source": []
  }
 ],
 "metadata": {
  "kernelspec": {
   "display_name": "Python 3",
   "language": "python",
   "name": "python3"
  },
  "language_info": {
   "codemirror_mode": {
    "name": "ipython",
    "version": 3
   },
   "file_extension": ".py",
   "mimetype": "text/x-python",
   "name": "python",
   "nbconvert_exporter": "python",
   "pygments_lexer": "ipython3",
   "version": "3.12.1"
  }
 },
 "nbformat": 4,
 "nbformat_minor": 2
}
